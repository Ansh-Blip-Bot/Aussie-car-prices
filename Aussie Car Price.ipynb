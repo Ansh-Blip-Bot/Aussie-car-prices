{
 "cells": [
  {
   "attachments": {},
   "cell_type": "markdown",
   "metadata": {},
   "source": [
    "# Identifying and Defining\n"
   ]
  },
  {
   "attachments": {},
   "cell_type": "markdown",
   "metadata": {},
   "source": [
    " I am attempting to anaylse Australian Vehicle prices and how they inflated during certain periods of time\n"
   ]
  },
  {
   "attachments": {},
   "cell_type": "markdown",
   "metadata": {},
   "source": [
    "The aim is to compare the prices from different eras based on the global context and how it affect Australia"
   ]
  },
  {
   "attachments": {},
   "cell_type": "markdown",
   "metadata": {},
   "source": [
    " https://www.kaggle.com/datasets/nelgiriyewithana/australian-vehicle-prices\n"
   ]
  },
  {
   "attachments": {},
   "cell_type": "markdown",
   "metadata": {},
   "source": [
    " The data is publicly available to motivate car purchases at certain periods and discourage them at the rise of wars or recession"
   ]
  },
  {
   "attachments": {},
   "cell_type": "markdown",
   "metadata": {},
   "source": [
    "CSV"
   ]
  },
  {
   "attachments": {},
   "cell_type": "markdown",
   "metadata": {},
   "source": [
    "## Data Loading:\n",
    "Description: The program should be able to read CSV files\\\n",
    "Input: A CSV file\\\n",
    "Output: A cleaned and processed CSV file\n",
    "\n"
   ]
  },
  {
   "attachments": {},
   "cell_type": "markdown",
   "metadata": {},
   "source": [
    "## Data Cleaning: \n",
    "Descirption: The program should be able to clean CSV files.\\\n",
    "Input: A processed Csv file\\\n",
    "Output: Usable Pandas dataframes\n"
   ]
  },
  {
   "attachments": {},
   "cell_type": "markdown",
   "metadata": {},
   "source": [
    "## Data Analysis\n",
    "Description: The system needs to identify the trend in data\\\n",
    "Input: A cleaned CSV file\\\n",
    "Output: Shows the trend in the data."
   ]
  },
  {
   "attachments": {},
   "cell_type": "markdown",
   "metadata": {},
   "source": [
    "## Data Visualisation\n",
    "Description: It will be dsiplayed through MATPLOTLIB\\\n",
    "Input: A CSV files displaying a trend.\\\n",
    "Output: A MATPLOTLIB chart showing information."
   ]
  },
  {
   "attachments": {},
   "cell_type": "markdown",
   "metadata": {},
   "source": [
    "## Data reporting \n",
    "Description: The MATPLOTLIB chart will be stored will be stored as  PNG file with data.\\\n",
    "Input:A MATPLOTLIB chart with information\\\n",
    "Output: A Matpotlib chart stored as a PNG."
   ]
  },
  {
   "attachments": {},
   "cell_type": "markdown",
   "metadata": {},
   "source": [
    "# Use Cases\n"
   ]
  },
  {
   "attachments": {},
   "cell_type": "markdown",
   "metadata": {},
   "source": [
    "## Data Loading:\n",
    "Actor: User\\\n",
    "Goal: To load a dataset into the system.\\\n",
    "Preconditions: User has a dataset file ready.\\\n",
    "Main Flow:\\\n",
    "User places the dataset for reading into the correct folder.\\\n",
    "System validates the file format.\\\n",
    "System loads the dataset and displays the information in a dataframe.\\\n",
    "Postconditions: Dataset is loaded and ready for analysis.\n"
   ]
  },
  {
   "attachments": {},
   "cell_type": "markdown",
   "metadata": {},
   "source": [
    "## Data Cleaning\n",
    "Actor:User                                                                                                                                                                                                                               \n",
    "Goal : To look for patterns in cleaned data..\\\n",
    "Preconditions: The data file has fully loaded.\\\n",
    "Main Flow: User places the dataset for identifying trends.\\\n",
    "System can remove all unnecassry information.\\\n",
    "System loads the cleaned data in a data frame for more analysis.\\\n",
    "Post Conditions Data is cleansed and can be deciphered."
   ]
  },
  {
   "attachments": {},
   "cell_type": "markdown",
   "metadata": {},
   "source": [
    " ## Data Analysis\n",
    "Actor: User\\\n",
    "Goal: To search for a pattern in  data.\\\n",
    "Preconditions: The data file has been processed and cleaned.\\\n",
    "Main Flow:\n",
    "1. User puts a dataset to identify trends.\n",
    "2. System removes  unnecessary information.\n",
    "3. System puts the analysed data in a dataframe for visualisation.\\\n",
    "Postconditions: The data trend has been found and is ready to be visualised\n",
    "\n",
    "\n",
    "## Data Visualisation\n",
    "Actor: User\\\n",
    "Goal: To visualise data using a matplotlib chart.\\\n",
    "Preconditions: The data has an identifiyable pattern .\\\n",
    "Main Flow:\n",
    "1. User places the dataset for finding patterns.\n",
    "2. System removes all unnecessary information.\n",
    "3. System displays a matplotlib chart with patterns.\\\n",
    "Postconditions: Data is visualised in a matplotlib chart and can be stored safely\n",
    "\n",
    "\n",
    "##  Data Reporting\n",
    "Actor: User\\\n",
    "Goal: To save the matplotlib chart as a PNG .\\\n",
    "Preconditions: A matplotlib chart is ready to be securely stored.\\\n",
    "Main Flow:\n",
    "1. User places the data to save as a PNG and CSV file.\n",
    "2. System displays a matplotlib chart as a PNG.\n",
    "3. System displays the information as a CSV file.\\\n",
    "Postconditions: A CSV file and a png file displays the data.\n",
    "\n"
   ]
  },
  {
   "attachments": {},
   "cell_type": "markdown",
   "metadata": {},
   "source": [
    "# Non-Functional Requirements\n",
    "\n",
    "## Reliability\n",
    "The requirements of System needs to ensure that the data is flawless with no blemishes, when a mistake is found it will make sure the users knows and fix it.\n",
    "\n",
    "\n",
    "## Usability\n",
    "The User's interface has to ensure it can handle typos and stay consistent as well as being easy to use, The Readme should make clear instuvtions on how to mange the software."
   ]
  },
  {
   "attachments": {},
   "cell_type": "markdown",
   "metadata": {},
   "source": [
    "# Research and Planning"
   ]
  },
  {
   "attachments": {},
   "cell_type": "markdown",
   "metadata": {},
   "source": [
    "### Purpose #\n",
    " I am trying to find out about the escalation during certain periods of time in correlation with the Global context"
   ]
  },
  {
   "attachments": {},
   "cell_type": "markdown",
   "metadata": {},
   "source": [
    "### Missing data\n",
    "There are some elaspes in my dataset where some boxes of information aren't filled out or are filed out wrong, which I believe is due to the long time period of my data."
   ]
  },
  {
   "attachments": {},
   "cell_type": "markdown",
   "metadata": {},
   "source": [
    "### Stake holders \n",
    "Car purchasers and car delerships. The customers could bargain for prices or choose the right car for their prefernece and he dealerships could modify their prices."
   ]
  },
  {
   "attachments": {},
   "cell_type": "markdown",
   "metadata": {},
   "source": [
    "### Uses\n",
    "The customers could bargain for prices or choose the right car for their prefernece and he dealerships could modify their prices."
   ]
  },
  {
   "attachments": {},
   "cell_type": "markdown",
   "metadata": {},
   "source": [
    "# Privacy and security \n",
    "\n",
    "## Data Privacy of Source\n",
    "   They need to source their data responsibly and have the customer's and dealership's permission to publish it.\n",
    "## Application and data privacy\n",
    "   I would have to credit this table to the creator and make sure I have his permission and respect his decisions \n",
    "## Cyber security\n",
    "A user authentication policy is a process in which you verify that someone who is attempting to access services and applications is who they claim to be. Password hashing turns your password (or any other piece of data) into a short string of letters and/or numbers using an encryption algorithm. Encryption is a way of scrambling data so that only authorized parties can understand the information. "
   ]
  },
  {
   "attachments": {},
   "cell_type": "markdown",
   "metadata": {},
   "source": [
    "# Data Dictionary \n",
    "\n"
   ]
  },
  {
   "attachments": {},
   "cell_type": "markdown",
   "metadata": {},
   "source": [
    "|Field|Datatype|Format for display|Description|Example|Validation|\n",
    "|:----:|:----:|:----:|:----:|:----:|:----:|\n",
    "|Model|Object|xx...xxx|What the name of the car is|Civic|Any_Raw_characters|\n",
    "DriveType|object|xx...xxx|The wheel drive|4WD|Any_Raw_characters|\n",
    "Price|float64|NNN|The price of the Car Model|12990|Any_Raw_chacters\n"
   ]
  },
  {
   "attachments": {},
   "cell_type": "markdown",
   "metadata": {},
   "source": [
    "## Testing and evaluating\n",
    "Data visualisation: \n",
    "Calculations:\n",
    "Accuracy:\n",
    "Conclusions:\n",
    "## Samraj:  Ansh's code is very simple and easy to use. It does the intended job of displaying the data of Australian car prices with varying models and engines.\n",
    "\n",
    "## Stephen:  Ansh's Code follows the instruction of the user. It is easy to navigate and structures the information in an understandable way.\n",
    "\n"
   ]
  }
 ],
 "metadata": {
  "kernelspec": {
   "display_name": "Python 3",
   "language": "python",
   "name": "python3"
  },
  "language_info": {
   "name": "python",
   "version": "3.11.0"
  },
  "orig_nbformat": 4
 },
 "nbformat": 4,
 "nbformat_minor": 2
}
